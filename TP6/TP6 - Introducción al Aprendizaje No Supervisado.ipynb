{
 "cells": [
  {
   "cell_type": "markdown",
   "metadata": {},
   "source": [
    "# Trabajo Practico N° 6"
   ]
  },
  {
   "cell_type": "markdown",
   "metadata": {},
   "source": [
    "## Enunciado\n",
    "\n",
    "1. Tomar el dataset seleccionado para el ejercicio de la clase pasada y hacerle un PCA. Mostrar cómo está explicada la varianza en base a los distintos componentes principales.\n",
    "2. Mostrar gráficamente cómo el primer y el segundo componente principal describen la varianza de los datos (hacer un gráfico similar al mostrado en esta clase con el Iris dataset pero para el nuevo dataset).\n",
    "3. Entrenar nuevamente uno de los clasificadores seleccionados para el ejercicio pasado para un conjunto de componentes principales que considere conveniente, utilizando la correspondiente semilla de random_state. Mostrar cuánto difiere el error de test con respecto al modelo utilizado en el ejercicio anterior. (Nota: la cantidad de componentes utilizada debe ser menor a la cantidad de features del conjunto original).\n",
    "4. Responder: bajo su criterio, ¿se justifica realizar la transformación de los features con PCA para el dataset seleccionado? Explicar por qué; en caso afirmativo, ¿cuántos componentes principales seleccionaría y por qué?\n",
    "\n",
    "Fecha de entrega: **24/05/2017**\n",
    "\n",
    "Nota: la resolución de los ejercicios es **individual**; en el caso de que dos ejercicios enviados contengan un código igual o muy similar (sin considerar los comentarios), se los considerará a ambos como desaprobados. La reutilización del código de los notebooks está permitida (por ejemplo para confeccionar gráficos)."
   ]
  },
  {
   "cell_type": "markdown",
   "metadata": {},
   "source": [
    "## Desarrollo"
   ]
  },
  {
   "cell_type": "markdown",
   "metadata": {},
   "source": [
    "#### Cargamos el dataset de phising y realizamos el PCA sobre el mismo."
   ]
  },
  {
   "cell_type": "markdown",
   "metadata": {},
   "source": [
    "Cargamos el dataset"
   ]
  },
  {
   "cell_type": "code",
   "execution_count": 1,
   "metadata": {
    "collapsed": true
   },
   "outputs": [],
   "source": [
    "import numpy as np\n",
    "import pandas as pd\n",
    "nombres = [\"has_ip\", \"long_url\", \"short_service\", \"has_at\", \"double_slash_redirect\", \"pref_suf\", \"has_sub_domain\", \"ssl_state\", \"long_domain\", \"favicon\", \"port\", \"https_token\", \"req_url\", \"url_of_anchor\", \"tag_links\", \"SFH\", \"submit_to_email\", \"abnormal_url\", \"redirect\", \"mouseover\", \"right_click\", \"popup\", \"iframe\", \"domain_Age\", \"dns_record\", \"traffic\", \"page_rank\", \"google_index\", \"links_to_page\", \"stats_report\", \"target\"]\n",
    "data=pd.read_csv(\"phising.csv\", header=None, names=nombres)\n",
    "x = np.array(data)\n",
    "# Eliminamos la columna del resultado (target)\n",
    "x = np.delete(x, 30, axis=1)\n",
    "y = np.array(data.target)"
   ]
  },
  {
   "cell_type": "markdown",
   "metadata": {},
   "source": [
    "Creamos la semilla"
   ]
  },
  {
   "cell_type": "code",
   "execution_count": 2,
   "metadata": {
    "collapsed": true
   },
   "outputs": [],
   "source": [
    "semilla = np.random.RandomState(3)"
   ]
  },
  {
   "cell_type": "markdown",
   "metadata": {},
   "source": [
    "Normalizamos los datos"
   ]
  },
  {
   "cell_type": "code",
   "execution_count": 3,
   "metadata": {
    "collapsed": true
   },
   "outputs": [],
   "source": [
    "from scipy import stats\n",
    "x_norm = stats.zscore(x)"
   ]
  },
  {
   "cell_type": "markdown",
   "metadata": {},
   "source": [
    "Instanciamos el PCA"
   ]
  },
  {
   "cell_type": "code",
   "execution_count": 4,
   "metadata": {},
   "outputs": [
    {
     "data": {
      "text/plain": [
       "PCA(copy=True, iterated_power='auto', n_components=None,\n",
       "  random_state=<mtrand.RandomState object at 0x7fe64fdc9e58>,\n",
       "  svd_solver='auto', tol=0.0, whiten=False)"
      ]
     },
     "execution_count": 4,
     "metadata": {},
     "output_type": "execute_result"
    }
   ],
   "source": [
    "from sklearn.decomposition import PCA\n",
    "pca = PCA(random_state=semilla)\n",
    "pca.fit(x_norm)"
   ]
  },
  {
   "cell_type": "markdown",
   "metadata": {},
   "source": [
    "Guardamos los datos transformados linealmente con respecto a los componentes principales"
   ]
  },
  {
   "cell_type": "code",
   "execution_count": 5,
   "metadata": {
    "collapsed": true
   },
   "outputs": [],
   "source": [
    "x_transformado = pca.transform(x_norm)"
   ]
  },
  {
   "cell_type": "markdown",
   "metadata": {},
   "source": [
    "A continuacion mostramos los componentes de PCA ordenados:"
   ]
  },
  {
   "cell_type": "code",
   "execution_count": 6,
   "metadata": {},
   "outputs": [
    {
     "name": "stdout",
     "output_type": "stream",
     "text": [
      "Componentes de PCA (ordenados desc. desde el 1° hasta el 5to vector): \n",
      "\n",
      " [[  2.60863776e-01   6.46845636e-02   2.54328174e-01  -6.32769851e-02\n",
      "    2.58285672e-01   3.72620455e-02   1.78620314e-03   1.60891868e-02\n",
      "   -5.88711699e-02   2.76835323e-01   2.69745150e-01   2.38075629e-01\n",
      "    2.85226712e-02  -5.51106736e-03   8.25483145e-02   6.05022909e-02\n",
      "    2.64432593e-01   2.63934281e-01   2.47207370e-01   2.62192092e-01\n",
      "    1.91884642e-01   2.77076698e-01   2.44290935e-01   1.75756299e-02\n",
      "    1.27005292e-01   5.74920036e-02  -1.77724840e-02  -2.95370068e-02\n",
      "    1.16117728e-01   3.04507670e-01]\n",
      " [  3.17631738e-01   5.72404274e-02   3.12654364e-01   9.87683419e-03\n",
      "    3.08657522e-01   7.17271837e-02   3.22497481e-02   5.73981181e-02\n",
      "   -5.17860659e-02  -2.63251202e-01  -2.75023468e-01   2.84422384e-01\n",
      "    4.22722915e-02   4.66025612e-02   3.90409966e-02   5.52297678e-02\n",
      "   -2.37331380e-01   2.55022868e-01   3.01533650e-01  -2.24546883e-01\n",
      "   -1.84238160e-01  -2.50826774e-01  -2.50272436e-01   4.11639336e-02\n",
      "    4.18998585e-02   4.29450164e-02   2.08943287e-02  -2.55195183e-02\n",
      "    4.65137316e-02  -1.59492187e-01]\n",
      " [ -6.49433720e-02   1.81310439e-01  -6.31374569e-02   4.59981838e-02\n",
      "   -6.46026766e-02   2.89453102e-01   1.92097385e-01   4.09378803e-01\n",
      "   -3.20442249e-01   3.28859513e-02   1.11761383e-02  -7.06701124e-02\n",
      "    2.99356239e-01   3.79108142e-01   1.44689656e-01   1.95000233e-01\n",
      "    9.91255359e-03  -6.07059824e-02  -5.94972390e-02   6.25357857e-03\n",
      "    1.59312846e-02   3.19527847e-02   2.42100688e-02   2.46776432e-01\n",
      "   -1.69607853e-01   3.21038624e-01   2.08590171e-01  -1.02784517e-01\n",
      "   -8.37995541e-02  -1.11780791e-02]\n",
      " [ -3.18954033e-02   5.46099845e-01  -2.88317882e-02   8.29982170e-02\n",
      "   -3.11352474e-02  -1.54703538e-01  -1.53379277e-01  -2.15772351e-01\n",
      "   -2.91708686e-01   1.56669109e-03  -2.64184572e-02  -2.25108760e-02\n",
      "    2.61632971e-01  -2.45152155e-01  -3.83871186e-02   5.43326110e-01\n",
      "   -2.77743388e-02  -2.70883635e-02  -2.87087254e-02   2.37387692e-03\n",
      "   -9.28376561e-03   2.00399261e-03  -2.75249071e-02  -1.53984224e-01\n",
      "    5.89369244e-02  -1.59395363e-01  -1.59320338e-01   2.45227067e-02\n",
      "   -6.88882057e-02  -4.30249666e-03]\n",
      " [  5.25212149e-02  -1.50447580e-01   5.64275552e-02   1.65686839e-01\n",
      "    6.39797007e-02  -1.44252615e-01  -7.77786200e-02  -9.03380122e-02\n",
      "   -1.26243681e-01  -2.31179217e-02   1.00195873e-02   1.02843631e-01\n",
      "    1.19688730e-01  -8.19292073e-02   1.40314193e-01  -1.69503740e-01\n",
      "    8.37016009e-02   1.13261644e-01   2.97108201e-02   6.32760755e-02\n",
      "   -1.25179353e-03  -2.16910698e-02  -6.82506973e-03  -1.62614936e-01\n",
      "   -5.61711660e-01   3.06514404e-02  -3.26092810e-02   3.61777434e-02\n",
      "   -6.54220277e-01   9.86548909e-02]\n",
      " [ -3.08106708e-03   1.49580585e-01   1.22360559e-02   5.17371807e-01\n",
      "   -1.17638496e-02   7.82900459e-02   2.90686878e-01   1.33664358e-03\n",
      "    2.56617710e-01   1.40713024e-02   6.51237306e-03   1.24215509e-02\n",
      "   -3.25210884e-01  -1.71073849e-01   4.33001564e-01   1.49064729e-01\n",
      "   -5.49157259e-04   4.39756919e-03  -2.86511659e-02   3.87464340e-02\n",
      "   -5.01496934e-02   2.70025175e-02  -2.24786799e-03   2.85365168e-01\n",
      "   -5.17906045e-02  -2.91771634e-01   8.13946583e-02  -1.57200215e-01\n",
      "   -3.40232504e-02   2.65760727e-02]\n",
      " [  2.99772606e-03   2.42449711e-01  -9.15643714e-04   6.04419369e-02\n",
      "    1.12889028e-02   2.70752823e-01  -3.80532180e-01   3.94209317e-02\n",
      "    3.22286798e-01  -2.85667494e-02   2.99299520e-02  -8.01480969e-03\n",
      "   -3.83050434e-01   1.76128859e-01  -1.07566871e-01   2.34728219e-01\n",
      "    5.00115956e-02   4.38275233e-02   1.35393957e-02  -3.85333453e-02\n",
      "    9.45306655e-03  -5.22947433e-02   3.05442110e-02  -3.57608945e-01\n",
      "   -1.70555803e-01   1.77334793e-01   3.62953985e-01   1.74846482e-01\n",
      "   -3.82596848e-02   7.52395719e-02]\n",
      " [  3.54199808e-04   1.75759346e-01   1.23993069e-02  -3.89773313e-01\n",
      "    1.26101401e-02  -1.70738009e-01   4.47366291e-01   6.21144424e-02\n",
      "    1.32937716e-01   3.16218776e-02   1.58620411e-02   4.74774737e-02\n",
      "   -1.70452386e-01  -3.70327978e-02  -3.42190990e-01   1.52305335e-01\n",
      "    9.08315999e-02   7.37819432e-02  -2.59653815e-02   3.10937675e-02\n",
      "   -1.76740568e-01   3.21023047e-02  -9.90203149e-02   2.90797854e-01\n",
      "   -1.29448175e-01  -9.64703359e-02   9.99482431e-02   3.90717552e-01\n",
      "   -2.27146059e-01   9.77303018e-02]\n",
      " [  3.10717170e-02  -7.98908817e-02   2.35951331e-02   2.67726310e-01\n",
      "    2.29440039e-02  -2.11253832e-01  -7.43349763e-03  -5.27703366e-02\n",
      "   -1.15135985e-01   3.14326671e-03  -1.17743302e-02  -4.50232918e-02\n",
      "    1.50105960e-01   5.08081187e-02   2.66576764e-01  -7.14096765e-02\n",
      "   -8.63894341e-02  -6.56766801e-02   4.16238718e-02   1.10576664e-02\n",
      "    1.14879712e-01   1.18409599e-02   7.33103995e-02   2.34336204e-02\n",
      "    1.06590659e-01   3.12982294e-02   2.53183841e-01   7.82762880e-01\n",
      "    1.59635129e-01  -9.04369352e-02]\n",
      " [  5.76784991e-02   6.21364135e-02   5.15911329e-02   4.10328866e-02\n",
      "    3.75869836e-02   3.21371354e-02   1.51143229e-01   3.97604452e-03\n",
      "    9.78920715e-02  -2.22044164e-01  -9.86261570e-02   3.69801479e-03\n",
      "   -4.94180559e-02   4.16548443e-02  -2.34639577e-01   6.87481983e-02\n",
      "   -1.78133327e-01  -9.17375498e-02   7.65800814e-02   6.55590856e-02\n",
      "    6.85640005e-01  -1.93060390e-01   3.70486196e-01   9.19887556e-02\n",
      "   -2.42391912e-01  -3.82658072e-02  -2.17894474e-01   1.93609471e-02\n",
      "    3.65513923e-02  -1.33272142e-01]\n",
      " [  1.84934201e-02  -8.38317744e-02   9.28525347e-03  -3.60834219e-02\n",
      "    9.45959286e-03   9.16114632e-02  -2.06242355e-02  -7.24670561e-02\n",
      "   -1.75412840e-01  -6.73032736e-02   3.13673634e-03  -7.67716941e-04\n",
      "    1.68162816e-01  -2.97468401e-01  -2.29203808e-01  -8.95506032e-02\n",
      "    1.81278347e-02   1.57196423e-02   1.45472923e-02   1.06741283e-02\n",
      "    1.70967055e-01  -6.61143861e-02   4.82298999e-02   5.90742456e-02\n",
      "    5.24353330e-02  -3.20520685e-01   7.57725983e-01  -2.08079207e-01\n",
      "   -3.34753102e-02  -9.27924721e-03]\n",
      " [ -2.46100501e-02  -6.88443590e-02   6.96870622e-03   4.19250298e-01\n",
      "   -5.86880315e-02   2.91857763e-01  -1.74559113e-01   3.82110716e-02\n",
      "   -1.10926647e-01  -9.99926601e-02   1.20703663e-01   1.53833222e-02\n",
      "    9.02667651e-02   6.97277559e-02  -4.11240921e-01  -7.96593483e-02\n",
      "    3.09325951e-01   1.66124824e-01  -7.31560516e-02  -2.04534417e-01\n",
      "   -5.97383752e-02  -1.50383727e-01  -8.11676074e-02   2.60209175e-01\n",
      "    1.41537557e-02  -1.97054146e-01  -2.30926728e-01   1.93332466e-01\n",
      "    6.21291958e-02   2.61060945e-01]\n",
      " [ -2.79674600e-03  -1.99438257e-02  -5.96165798e-03  -4.65589340e-01\n",
      "   -1.66665669e-02   5.57277271e-01  -6.43606156e-02  -1.07122784e-01\n",
      "   -1.13870327e-01  -4.99174096e-02  -4.93327934e-03  -3.37794250e-02\n",
      "   -2.53411689e-03  -4.72445132e-03   4.06810489e-01  -1.69663408e-02\n",
      "    3.01049572e-02  -1.19548294e-02  -2.43378774e-02  -7.46686736e-02\n",
      "    3.84554195e-02  -2.67428232e-02   3.91191204e-02  -2.14055182e-02\n",
      "   -1.08337553e-01  -4.28014845e-01  -1.39398580e-01   2.18846136e-01\n",
      "   -1.52090003e-02  -2.65807421e-03]\n",
      " [  2.44164237e-02   4.20824520e-02   1.20464681e-02  -1.92255913e-01\n",
      "    3.72526693e-03  -2.84611089e-01  -6.41405966e-01   1.59318227e-01\n",
      "    3.25852910e-02   1.73309456e-02   3.31873920e-03   2.21334289e-02\n",
      "   -1.09517917e-01  -5.30266626e-02   1.34863438e-01   3.45798221e-02\n",
      "   -1.00838863e-02  -4.45976788e-02   3.56899971e-03  -5.31159408e-02\n",
      "    5.51870424e-02  -3.71263876e-03   2.49781565e-02   6.17126603e-01\n",
      "   -1.02860419e-01  -4.47749556e-03   1.55746505e-02  -4.16044882e-02\n",
      "   -2.68351050e-02  -6.26422334e-02]\n",
      " [  5.44933950e-02  -5.97164876e-02   5.10843609e-02   1.71378318e-01\n",
      "    1.28660459e-01   3.20844229e-01  -1.29113793e-01   5.38069514e-02\n",
      "   -6.87129301e-02   2.75586144e-01  -5.76463308e-02   3.90317110e-02\n",
      "   -6.56594390e-02  -5.69706678e-02  -3.00569619e-01  -2.33813006e-02\n",
      "   -2.81644488e-01  -2.53229843e-01   1.39119292e-01   3.06859851e-01\n",
      "   -1.92645326e-01   3.38543487e-01   3.08348287e-02   8.58628589e-02\n",
      "    3.73426437e-02  -9.80558258e-02  -9.22051300e-02   1.01674945e-01\n",
      "   -2.00357706e-01  -3.89175229e-01]\n",
      " [ -8.25735275e-02   3.04150936e-02  -1.04266782e-02   3.25563381e-04\n",
      "   -8.08156184e-02  -5.50634008e-02  -6.96683661e-02   3.46426856e-01\n",
      "   -3.87587650e-02  -1.23302912e-01  -2.26501931e-01   1.89578449e-01\n",
      "   -1.15650584e-01   1.55719894e-01   6.30827005e-02  -4.33835698e-02\n",
      "    1.08687959e-02   1.02489675e-01  -1.72194030e-01   1.86942371e-01\n",
      "    1.80262261e-01  -8.45112266e-02   3.22945811e-02  -1.09652072e-01\n",
      "    5.79269734e-01  -1.66918398e-01  -3.59505558e-02   3.93922594e-02\n",
      "   -4.57401641e-01   8.29806020e-02]\n",
      " [ -2.70443660e-02   9.92870096e-03  -7.20088781e-03  -3.14685441e-02\n",
      "   -1.60217655e-02   3.13239215e-01   1.95931418e-02  -4.73827595e-01\n",
      "    3.92449462e-02  -9.17979474e-02  -4.58778227e-02   3.13350967e-02\n",
      "   -2.14698224e-02  -2.93708861e-01   5.18536652e-02  -1.51039245e-02\n",
      "    2.00104763e-02   3.96205107e-03  -1.17878706e-01   6.46884966e-02\n",
      "    1.00820666e-01  -8.78326739e-02  -4.44189972e-02   2.83586625e-01\n",
      "    2.63373563e-01   5.72507143e-01   4.11201133e-03   5.86880874e-02\n",
      "   -2.25817178e-01   4.24837765e-02]\n",
      " [ -4.36330874e-02   1.71677572e-02  -6.26461113e-02   1.79750375e-02\n",
      "    1.65790966e-02  -1.11561378e-01  -1.56423732e-02  -6.04017947e-01\n",
      "   -5.96088716e-02   7.22958597e-04  -2.21587343e-02   1.36131249e-01\n",
      "   -4.30451042e-02   6.96503022e-01  -2.93815320e-02   1.97907123e-02\n",
      "   -2.86205854e-02   1.09789998e-02   6.29937979e-03   1.26272278e-01\n",
      "   -3.51919684e-02   1.78458859e-02  -1.93856337e-03   1.53688551e-01\n",
      "    2.66863172e-02  -1.82057606e-01   1.03184943e-01  -1.25529974e-01\n",
      "   -4.56656669e-02  -2.23056528e-02]\n",
      " [ -7.17962349e-02   2.13894290e-02  -5.86363501e-02  -2.75239028e-03\n",
      "   -1.47818015e-01   6.92203532e-02  -9.12266172e-02   1.52971027e-02\n",
      "    2.06192726e-01  -1.30930002e-02  -3.84390628e-01   1.06045118e-01\n",
      "    2.59078352e-01  -6.45575034e-02  -1.86319101e-02  -4.47003382e-02\n",
      "   -2.72298224e-01   3.53927747e-01  -2.36756343e-01   4.73575201e-01\n",
      "   -6.99734285e-02   8.38929959e-02  -6.35479641e-02   4.59145789e-02\n",
      "   -2.17484290e-01  -2.00791007e-02   4.69944324e-03   3.97432002e-02\n",
      "    2.70006237e-01   2.45752670e-01]\n",
      " [ -5.66313454e-02  -2.13093349e-02  -8.98448103e-02   2.52210358e-02\n",
      "   -9.65011723e-02   3.24718639e-03   3.77980979e-02  -2.47648916e-02\n",
      "   -2.86970275e-01   3.07627997e-01  -1.55755005e-01   2.03391152e-01\n",
      "   -2.96210256e-01  -2.89271586e-02  -3.32866361e-02  -1.99684289e-02\n",
      "   -1.43025090e-01   1.52508124e-01  -9.51176642e-02  -3.19700518e-01\n",
      "    4.24301972e-01   3.21938443e-01  -4.33699535e-01  -2.92702880e-02\n",
      "   -9.09171873e-02   3.42979187e-02   1.17805374e-03   1.28172664e-02\n",
      "    6.88801234e-02   4.01917377e-02]\n",
      " [ -1.32854117e-02  -2.19547052e-02  -4.30240326e-02   1.63898150e-03\n",
      "   -1.21528505e-01  -4.06266969e-02   2.96199511e-02   9.84574583e-03\n",
      "   -5.52900154e-01  -1.62577877e-01  -2.15217436e-02   2.89600020e-01\n",
      "   -4.65215965e-01  -1.15847132e-01  -1.40636283e-02  -3.58429395e-02\n",
      "    9.79863718e-03  -2.39146041e-02  -1.27188674e-01   1.75893541e-01\n",
      "   -2.69407978e-01  -1.59697885e-01   3.37855778e-01  -3.54753605e-02\n",
      "   -1.20103510e-01   1.02007108e-01   5.61005184e-03   8.58056939e-03\n",
      "    2.14617089e-01   5.90557459e-03]\n",
      " [ -5.33072720e-02  -5.74717865e-02  -6.67606232e-02  -6.08981609e-05\n",
      "    1.73711857e-01  -2.46910185e-02  -1.93541329e-02   1.48299396e-02\n",
      "   -2.67220935e-01  -1.19989685e-01  -8.32226714e-03  -6.43030628e-01\n",
      "   -2.66096768e-01   1.65604067e-02   3.54142425e-03   2.74279719e-02\n",
      "   -3.60737588e-02   1.85562258e-01   3.07301041e-01   3.63867984e-01\n",
      "    8.37105905e-02  -1.06970407e-01  -2.94635408e-01   2.62269978e-02\n",
      "    1.85146773e-02   1.52204440e-03  -3.26698092e-02  -9.11663100e-03\n",
      "    4.76944799e-03   1.29517570e-01]\n",
      " [  4.50971363e-02  -2.52537426e-02   7.38122589e-02   1.37539869e-02\n",
      "   -4.01872588e-02  -1.15491783e-02   9.60588862e-03  -7.47281981e-02\n",
      "   -5.33223748e-02   1.22605234e-01  -2.67217525e-01  -3.85243859e-01\n",
      "   -5.59264627e-02   2.69805166e-02  -4.10761223e-02  -6.44392280e-04\n",
      "   -2.45203364e-01   3.30404290e-01  -6.85173987e-03  -4.01759801e-01\n",
      "   -1.60870572e-01   2.10095419e-01   5.36499236e-01   4.36451742e-02\n",
      "    8.42490647e-02   1.32653635e-02   1.13822488e-02  -2.37215590e-02\n",
      "   -1.41241011e-01   1.50362466e-01]\n",
      " [ -3.73717484e-01  -3.32394681e-02  -6.28490196e-01   3.65132817e-03\n",
      "    1.00894174e-01   3.00284544e-02   6.77641481e-03   3.08697195e-02\n",
      "    7.42245738e-02   3.19707044e-02  -1.49092894e-02   2.32987765e-01\n",
      "    6.56597520e-02  -7.96518664e-02   2.45244482e-02   4.37202917e-02\n",
      "    7.13883608e-02   3.00796150e-01   4.69605622e-01  -6.48260662e-02\n",
      "   -2.79692321e-02  -3.75511454e-02   1.51773411e-01   2.59697691e-02\n",
      "    2.42334247e-02   2.39772650e-02  -1.20590747e-02   3.01352359e-02\n",
      "   -1.43039404e-02  -1.71180067e-01]\n",
      " [  3.33955706e-02   8.23830913e-02   1.80380731e-01   7.38754573e-03\n",
      "   -1.82072973e-01  -2.00489801e-02   1.11480565e-02  -3.66159062e-02\n",
      "    3.77995595e-03  -4.15340913e-02  -2.98341541e-01  -1.41086301e-01\n",
      "   -1.76379670e-02   5.33064015e-03   5.51163091e-03  -5.31291422e-02\n",
      "    5.94613653e-01   2.86406985e-01  -6.70905803e-02   8.14321500e-02\n",
      "    3.95613011e-02   1.57745855e-01   6.16602081e-03  -1.78623680e-02\n",
      "   -4.96734017e-02   2.70341614e-02   1.55664303e-03  -9.04215501e-03\n",
      "    6.28399427e-02  -5.74351366e-01]\n",
      " [  9.86011789e-03   2.91160443e-02  -2.03087044e-01   1.63669898e-02\n",
      "    5.78970925e-01  -1.30705049e-02   2.46980234e-04  -9.49736230e-04\n",
      "   -1.60119137e-02  -4.60091545e-02  -5.27512230e-01  -1.51309570e-02\n",
      "   -4.20582486e-03  -1.16488781e-02  -3.32274307e-03  -4.01573249e-02\n",
      "    3.11823770e-01  -3.80389683e-01  -1.11847757e-01  -5.73459596e-02\n",
      "   -1.12481384e-02   1.38880326e-01   4.17695810e-02  -3.28824316e-03\n",
      "   -4.16898619e-02   1.74696133e-03   8.15152008e-03  -9.84854879e-03\n",
      "    7.39045453e-02   2.30760193e-01]\n",
      " [  2.65181795e-01  -1.04109302e-01  -3.00138976e-01   5.22081060e-03\n",
      "    4.41426868e-01  -8.56972213e-03   4.39081147e-03   2.54588973e-02\n",
      "   -5.99522780e-03   1.24905479e-01   2.62001993e-01  -7.59892865e-02\n",
      "   -7.83916716e-03   1.09157970e-02  -4.75848331e-03   1.17342884e-01\n",
      "   -8.22959283e-02   3.13386926e-01  -5.66014733e-01   1.93017146e-02\n",
      "    2.27465119e-02  -1.59719343e-01   1.84417132e-02  -1.62482756e-02\n",
      "    9.03802889e-03  -1.92472802e-02  -1.37430779e-02   1.77307556e-03\n",
      "   -4.21347363e-03  -2.75823139e-01]\n",
      " [ -3.51633879e-01   3.41938185e-01   1.17220354e-01   2.32557942e-03\n",
      "    2.70108916e-01  -7.60318437e-03  -9.15680756e-03   1.65062289e-02\n",
      "   -1.74205286e-02  -4.87216649e-01   2.90767114e-01   7.89685631e-03\n",
      "   -7.30159484e-03  -3.61188671e-03  -2.97776901e-03  -3.38844225e-01\n",
      "   -1.36294838e-01   1.11962862e-01  -1.30339347e-01  -5.46261671e-02\n",
      "   -6.63572602e-05   4.23321035e-01  -3.80165780e-03  -2.02283151e-03\n",
      "   -9.68476519e-03   6.02685231e-03  -1.13278406e-03  -2.43423866e-03\n",
      "    1.91341822e-02  -6.57561202e-02]\n",
      " [ -4.70461871e-01   2.61971712e-01   3.18722799e-01  -4.11262376e-03\n",
      "    2.18631906e-01   5.38674136e-03   1.02727053e-02  -1.10825515e-02\n",
      "   -2.23223290e-02   5.14095028e-01  -5.59386783e-02  -2.02449149e-02\n",
      "   -7.59083606e-03  -3.32654564e-03   6.66246260e-03  -2.69230551e-01\n",
      "   -1.78643719e-02   3.45359004e-02  -5.70906149e-02   3.92228778e-03\n",
      "    3.07200665e-03  -4.56784303e-01   4.01730482e-02  -2.44565389e-03\n",
      "   -2.74016869e-02  -6.71203154e-03   4.49756505e-04  -2.94613467e-03\n",
      "    3.36306254e-02  -4.94500765e-02]\n",
      " [  4.84961801e-01   5.35939702e-01  -3.48674043e-01   1.08248084e-02\n",
      "   -1.64622070e-01   1.37718311e-02   8.60419043e-03  -3.12482379e-03\n",
      "   -7.14544097e-03   1.06814380e-01  -3.46858754e-03  -6.27720718e-02\n",
      "   -5.22753145e-03   1.22048579e-02  -2.96366073e-03  -5.38740191e-01\n",
      "   -2.36295710e-02  -3.68822904e-02   1.02056323e-01   1.01049628e-02\n",
      "   -4.94048165e-03  -9.32562336e-02  -1.30723884e-02   4.15356556e-03\n",
      "    1.63442992e-02  -4.34985980e-03  -9.79215838e-03  -2.65084814e-03\n",
      "   -1.90866175e-02   2.40506771e-02]]\n"
     ]
    }
   ],
   "source": [
    "print('Componentes de PCA (ordenados desc. desde el 1° hasta el 5to vector): \\n\\n', pca.components_) "
   ]
  },
  {
   "cell_type": "markdown",
   "metadata": {},
   "source": [
    "Ahora mostramos el monto de la varianza explicado por cada componente "
   ]
  },
  {
   "cell_type": "code",
   "execution_count": 7,
   "metadata": {},
   "outputs": [
    {
     "name": "stdout",
     "output_type": "stream",
     "text": [
      "[ 6.15026293  4.90830046  3.04129766  2.19057562  1.34912795  1.30066401\n",
      "  1.15054435  1.07249023  0.99693799  0.84080855  0.81444775  0.75105585\n",
      "  0.7023255   0.65508506  0.60382856  0.52385956  0.4955594   0.39173143\n",
      "  0.37804289  0.30908942  0.29051198  0.25371287  0.20926639  0.16836934\n",
      "  0.15859286  0.09410855  0.07394528  0.05236768  0.04253064  0.03055925]\n"
     ]
    }
   ],
   "source": [
    "print(pca.explained_variance_)"
   ]
  },
  {
   "cell_type": "markdown",
   "metadata": {},
   "source": [
    "####  Mostramos cómo está explicada la varianza en base a los distintos componentes principales"
   ]
  },
  {
   "cell_type": "code",
   "execution_count": 8,
   "metadata": {},
   "outputs": [
    {
     "data": {
      "image/png": "[encoded data removed]",
      "text/plain": [
       "<matplotlib.figure.Figure at 0x7fe64211bf28>"
      ]
     },
     "metadata": {},
     "output_type": "display_data"
    }
   ],
   "source": [
    "import matplotlib.pyplot as plt\n",
    "plt.figure(figsize=(15,8))\n",
    "y_pos = np.arange(30)\n",
    "# pca.explained_variance_ratio_ es quien nos devuelve el gráfico de la varianza\n",
    "plt.bar(y_pos, np.round(100 * pca.explained_variance_ratio_,\n",
    "                        decimals=1), align='center', alpha=0.5)\n",
    "plt.xticks(y_pos, [1,2,3,4,5,6,7,8,9,10,11,12,13,14,15,16,17,18,19,20,21,22,23,24,25,26,27,28,29,30])\n",
    "plt.xlabel('N° de Componente Principal')\n",
    "plt.ylabel('Varianza')\n",
    "plt.title('Varianza explicada por cada componente')\n",
    "plt.show()"
   ]
  },
  {
   "cell_type": "markdown",
   "metadata": {},
   "source": [
    "#### 2. Mostramos gráficamente cómo el primer y el segundo componente principal describen la varianza de los datos."
   ]
  },
  {
   "cell_type": "code",
   "execution_count": 9,
   "metadata": {},
   "outputs": [
    {
     "data": {
      "image/png": "[encoded data removed]",
      "text/plain": [
       "<matplotlib.figure.Figure at 0x7fe64211bb38>"
      ]
     },
     "metadata": {},
     "output_type": "display_data"
    }
   ],
   "source": [
    "plt.figure(figsize=(15,8))\n",
    "plot = plt.scatter(x_transformado[y==-1, 0], x_transformado[y==-1, 1], color='blue')\n",
    "plot = plt.scatter(x_transformado[y==1, 0], x_transformado[y==1, 1], color='green')\n",
    "plt.xlabel('Valor del primer componente principal')\n",
    "plt.ylabel('Valor del segundo componente principal')\n",
    "plt.show()"
   ]
  },
  {
   "cell_type": "markdown",
   "metadata": {},
   "source": [
    "#### 3. Entrenamos un clasificador KNN con la cantidad de componentes principales mas convenientes"
   ]
  },
  {
   "cell_type": "markdown",
   "metadata": {},
   "source": [
    "Dividimos los datos en train y test. Instanciamos el clasificador KNN y lo entrenamos, probando con la distinta cantidad de componentes, la que nos de una tasa de aciertos mayor o igual a 0.96, que es la del trabajo anterior."
   ]
  },
  {
   "cell_type": "code",
   "execution_count": 10,
   "metadata": {},
   "outputs": [
    {
     "name": "stdout",
     "output_type": "stream",
     "text": [
      "El numero de componentes principales a usar es:  4 . Da una tasa de aciertos de:  0.960912052117\n"
     ]
    }
   ],
   "source": [
    "from sklearn.model_selection import train_test_split\n",
    "from sklearn import neighbors\n",
    "for i in range(1, len(x_transformado[0])):\n",
    "    X_train, X_test, y_train, y_test = train_test_split(x_transformado[:,0:i], y, random_state=semilla)\n",
    "    clf = neighbors.KNeighborsClassifier(weights='distance', n_neighbors=6)\n",
    "    clf.fit(X_train, y_train)\n",
    "    if clf.score(X_test,y_test) >= 0.96:\n",
    "        print('El numero de componentes principales a usar es: ', i, '. Da una tasa de aciertos de: ', clf.score(X_test, y_test))\n",
    "        break"
   ]
  },
  {
   "cell_type": "markdown",
   "metadata": {},
   "source": [
    "Predecimos"
   ]
  },
  {
   "cell_type": "code",
   "execution_count": 11,
   "metadata": {
    "collapsed": true
   },
   "outputs": [],
   "source": [
    "y_hat = clf.predict(X_test)"
   ]
  },
  {
   "cell_type": "markdown",
   "metadata": {},
   "source": [
    "Mostramos la confusion matrix y la formateamos"
   ]
  },
  {
   "cell_type": "code",
   "execution_count": 12,
   "metadata": {},
   "outputs": [
    {
     "name": "stdout",
     "output_type": "stream",
     "text": [
      "[[333  16]\n",
      " [  8 257]]\n"
     ]
    },
    {
     "data": {
      "text/html": [
       "<div>\n",
       "<style>\n",
       "    .dataframe thead tr:only-child th {\n",
       "        text-align: right;\n",
       "    }\n",
       "\n",
       "    .dataframe thead th {\n",
       "        text-align: left;\n",
       "    }\n",
       "\n",
       "    .dataframe tbody tr th {\n",
       "        vertical-align: top;\n",
       "    }\n",
       "</style>\n",
       "<table border=\"1\" class=\"dataframe\">\n",
       "  <thead>\n",
       "    <tr style=\"text-align: right;\">\n",
       "      <th></th>\n",
       "      <th>Predicho no fishing (-1)</th>\n",
       "      <th>Predicho fishing (1)</th>\n",
       "    </tr>\n",
       "  </thead>\n",
       "  <tbody>\n",
       "    <tr>\n",
       "      <th>Real no fishing (-1)</th>\n",
       "      <td>333</td>\n",
       "      <td>16</td>\n",
       "    </tr>\n",
       "    <tr>\n",
       "      <th>Real fishing (1)</th>\n",
       "      <td>8</td>\n",
       "      <td>257</td>\n",
       "    </tr>\n",
       "  </tbody>\n",
       "</table>\n",
       "</div>"
      ],
      "text/plain": [
       "                      Predicho no fishing (-1)  Predicho fishing (1)\n",
       "Real no fishing (-1)                       333                    16\n",
       "Real fishing (1)                             8                   257"
      ]
     },
     "execution_count": 12,
     "metadata": {},
     "output_type": "execute_result"
    }
   ],
   "source": [
    "from sklearn import metrics\n",
    "cm = metrics.confusion_matrix(y_test, y_hat, labels=[-1,1])\n",
    "print(cm)\n",
    "\n",
    "# Formateamos la confussion matrix\n",
    "list1 = [\"Real no fishing (-1)\", \"Real fishing (1)\"]\n",
    "list2 = [\"Predicho no fishing (-1)\", \"Predicho fishing (1)\"]\n",
    "pd.DataFrame(cm, list1, list2)"
   ]
  },
  {
   "cell_type": "markdown",
   "metadata": {},
   "source": [
    "Mostramos los resultados"
   ]
  },
  {
   "cell_type": "code",
   "execution_count": 13,
   "metadata": {},
   "outputs": [
    {
     "name": "stdout",
     "output_type": "stream",
     "text": [
      "             precision    recall  f1-score   support\n",
      "\n",
      " no phising       0.98      0.95      0.97       349\n",
      "    phising       0.94      0.97      0.96       265\n",
      "\n",
      "avg / total       0.96      0.96      0.96       614\n",
      "\n"
     ]
    }
   ],
   "source": [
    "print(metrics.classification_report(y_test, y_hat, target_names=['no phising', 'phising']))"
   ]
  },
  {
   "cell_type": "markdown",
   "metadata": {
    "collapsed": true
   },
   "source": [
    "#### 4. Justificacion del uso de PCA."
   ]
  },
  {
   "cell_type": "markdown",
   "metadata": {},
   "source": [
    "Bajo mi criterio personal, y teniendo en cuenta el caso de estudio con el dataset elegido, aplicar PCA es de mucha utilidad, ya que de 30 dimensiones podemos utilizar solo 4 teniendo la misma presicion en los resultados obtenidos. Se escogieron 4 componentes principales debido a que no hay perdida en la tasa de aciertos. Ademas se reduce en mucha cantidad las dimensiones, lo que hace un dataset mas pequeño y manejable."
   ]
  }
 ],
 "metadata": {
  "kernelspec": {
   "display_name": "Python 3",
   "language": "python",
   "name": "python3"
  },
  "language_info": {
   "codemirror_mode": {
    "name": "ipython",
    "version": 3
   },
   "file_extension": ".py",
   "mimetype": "text/x-python",
   "name": "python",
   "nbconvert_exporter": "python",
   "pygments_lexer": "ipython3",
   "version": "3.5.2"
  }
 },
 "nbformat": 4,
 "nbformat_minor": 2
}

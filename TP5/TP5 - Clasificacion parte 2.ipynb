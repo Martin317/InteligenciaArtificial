{
 "cells": [
  {
   "cell_type": "markdown",
   "metadata": {},
   "source": [
    "# Trabajo práctico N° 5"
   ]
  },
  {
   "cell_type": "markdown",
   "metadata": {},
   "source": [
    "## Enunciado\n",
    "\n",
    "1. Utilizar, al igual que en los anteriores prácticos, una semilla de random_state igual al número de orden en Entregas TPs.\n",
    "\n",
    "2. Elegir dos clasificadores y realizar alguna predicción en un dataset a su elección tal como lo venimos haciendo hasta ahora, mostrando para cada clasificador la tasa de aciertos junto con sus respectivos precision y recall (ayuda: utilizar *classification\\_report* de _sklearn.metrics_ para no tener que calcular ambos a mano). Se alienta a que busquen nuevos datasets y cómo implementar clasificadores, por lo que al menos uno de los clasificadores seleccionados debe haber sido uno de los vistos en esta clase o algún otro no visto anteriormente.\n",
    "\n",
    "3. Explicar el paso a paso de la implementación, y de la comparación de sus errores. Explicar por qué creen que un clasificador se desempeñó mejor o similarmente que el otro.\n",
    "\n",
    "Fecha de entrega: **17/05/2017**.\n",
    "\n",
    "Nota: la resolución de los ejercicios es **individual**; en el caso de que dos ejercicios enviados contengan un código igual o muy similar (sin considerar los comentarios), se los considerará a ambos como desaprobados. La reutilización del código de los notebooks está permitida (por ejemplo para confeccionar gráficos)."
   ]
  },
  {
   "cell_type": "markdown",
   "metadata": {},
   "source": [
    "## Desarrollo"
   ]
  },
  {
   "cell_type": "markdown",
   "metadata": {},
   "source": [
    "#### Para este trabajo se eligió un dataset para identificar que sitios web pueden ser phishing y cuales no"
   ]
  },
  {
   "cell_type": "markdown",
   "metadata": {},
   "source": [
    "#### 1. Se declara la variable random_state con el numero de alumno correspondiente (3)"
   ]
  },
  {
   "cell_type": "code",
   "execution_count": 1,
   "metadata": {
    "collapsed": true
   },
   "outputs": [],
   "source": [
    "import numpy as np\n",
    "semilla = np.random.RandomState(3)"
   ]
  },
  {
   "cell_type": "markdown",
   "metadata": {},
   "source": [
    "#### 2. En este caso se utilizan 2 clasificadores: KNN y Decision Tree"
   ]
  },
  {
   "cell_type": "markdown",
   "metadata": {},
   "source": [
    "#### Carga de y preprocesamiento de datos "
   ]
  },
  {
   "cell_type": "markdown",
   "metadata": {},
   "source": [
    "Se carga el dataset"
   ]
  },
  {
   "cell_type": "code",
   "execution_count": 2,
   "metadata": {
    "collapsed": true
   },
   "outputs": [],
   "source": [
    "import pandas as pd\n",
    "nombres = [\"has_ip\", \"long_url\", \"short_service\", \"has_at\", \"double_slash_redirect\", \"pref_suf\", \"has_sub_domain\", \"ssl_state\", \"long_domain\", \"favicon\", \"port\", \"https_token\", \"req_url\", \"url_of_anchor\", \"tag_links\", \"SFH\", \"submit_to_email\", \"abnormal_url\", \"redirect\", \"mouseover\", \"right_click\", \"popup\", \"iframe\", \"domain_Age\", \"dns_record\", \"traffic\", \"page_rank\", \"google_index\", \"links_to_page\", \"stats_report\", \"target\"]\n",
    "data=pd.read_csv(\"phising.csv\", header=None, names=nombres)\n",
    "x = np.array(data)\n",
    "# Eliminamos la columna del resultado (target)\n",
    "x = np.delete(x, 30, axis=1)\n",
    "y = np.array(data.target)"
   ]
  },
  {
   "cell_type": "markdown",
   "metadata": {},
   "source": [
    "Se normalizan los datos"
   ]
  },
  {
   "cell_type": "code",
   "execution_count": 3,
   "metadata": {
    "collapsed": true
   },
   "outputs": [],
   "source": [
    "from scipy import stats\n",
    "x_norm = stats.zscore(x)"
   ]
  },
  {
   "cell_type": "markdown",
   "metadata": {},
   "source": [
    "Se dividen los datos en train y test"
   ]
  },
  {
   "cell_type": "code",
   "execution_count": 4,
   "metadata": {
    "collapsed": true
   },
   "outputs": [],
   "source": [
    "from sklearn.model_selection import train_test_split\n",
    "X_train, X_test, y_train, y_test = train_test_split(x_norm, y, random_state=semilla)"
   ]
  },
  {
   "cell_type": "markdown",
   "metadata": {},
   "source": [
    "#### Se procede a instanciar el clasificador KNN"
   ]
  },
  {
   "cell_type": "code",
   "execution_count": 5,
   "metadata": {
    "collapsed": true
   },
   "outputs": [],
   "source": [
    "def k_optimo(X_train, y_train, X_test):\n",
    "    score_optimo = 0\n",
    "    for k in range(1, len(X_train)):\n",
    "        clf = neighbors.KNeighborsClassifier(weights='distance', n_neighbors=k)\n",
    "        clf.fit(X_train, y_train)\n",
    "        y_hat = clf.predict(X_test)\n",
    "        if clf.score(X_test, y_test) > score_optimo:\n",
    "            k_optimo = k\n",
    "            score_optimo = clf.score(X_test, y_test)\n",
    "    return k_optimo"
   ]
  },
  {
   "cell_type": "code",
   "execution_count": 6,
   "metadata": {},
   "outputs": [
    {
     "data": {
      "text/plain": [
       "KNeighborsClassifier(algorithm='auto', leaf_size=30, metric='minkowski',\n",
       "           metric_params=None, n_jobs=1, n_neighbors=6, p=2,\n",
       "           weights='distance')"
      ]
     },
     "execution_count": 6,
     "metadata": {},
     "output_type": "execute_result"
    }
   ],
   "source": [
    "from sklearn import neighbors\n",
    "k_optimo = k_optimo(X_train, y_train, X_test)\n",
    "clf = neighbors.KNeighborsClassifier(weights='distance', n_neighbors=k_optimo)\n",
    "clf.fit(X_train, y_train)"
   ]
  },
  {
   "cell_type": "markdown",
   "metadata": {},
   "source": [
    "Predecimos los datos de test y mostramos dicha prediccion"
   ]
  },
  {
   "cell_type": "code",
   "execution_count": 7,
   "metadata": {},
   "outputs": [
    {
     "name": "stdout",
     "output_type": "stream",
     "text": [
      "La salida de la prediccion es: \n",
      " [ 1  1  1 -1 -1 -1 -1  1 -1 -1  1 -1 -1  1  1  1  1  1  1  1 -1  1 -1  1  1\n",
      " -1  1 -1  1  1  1  1 -1 -1  1 -1 -1 -1  1 -1 -1  1  1  1 -1 -1 -1 -1 -1  1\n",
      "  1 -1 -1  1  1 -1  1 -1 -1 -1 -1  1  1 -1  1  1 -1 -1 -1  1 -1 -1 -1  1 -1\n",
      " -1  1 -1 -1 -1 -1 -1 -1 -1 -1  1 -1  1 -1  1 -1 -1  1 -1 -1  1 -1  1 -1 -1\n",
      " -1  1  1 -1 -1  1 -1  1 -1 -1 -1 -1 -1 -1 -1  1 -1 -1 -1 -1  1  1 -1 -1  1\n",
      " -1  1 -1 -1 -1 -1  1  1  1  1  1  1 -1  1  1 -1  1 -1  1 -1  1 -1  1 -1 -1\n",
      "  1 -1  1  1 -1  1  1 -1 -1  1  1  1  1  1 -1  1 -1  1  1  1  1 -1  1 -1  1\n",
      "  1  1 -1  1 -1  1 -1 -1 -1  1 -1  1  1 -1 -1 -1 -1 -1 -1 -1 -1 -1  1 -1  1\n",
      " -1 -1  1  1  1 -1 -1  1  1 -1 -1 -1 -1  1  1 -1 -1  1 -1 -1 -1 -1  1 -1  1\n",
      " -1  1  1 -1  1 -1  1 -1 -1  1  1  1  1  1  1 -1  1  1 -1 -1  1  1  1  1 -1\n",
      " -1 -1 -1 -1 -1  1  1 -1  1  1 -1  1  1 -1  1 -1 -1  1 -1  1 -1 -1 -1  1 -1\n",
      "  1  1 -1 -1 -1 -1 -1 -1  1 -1  1 -1 -1 -1 -1 -1  1 -1 -1 -1  1  1 -1 -1  1\n",
      "  1 -1  1 -1 -1  1  1 -1 -1  1  1  1 -1 -1 -1 -1 -1  1 -1  1  1  1 -1 -1  1\n",
      " -1 -1  1  1 -1 -1  1 -1 -1  1  1  1  1 -1 -1 -1  1 -1  1  1 -1 -1 -1 -1  1\n",
      "  1 -1  1  1  1 -1  1 -1  1 -1  1  1  1 -1 -1 -1 -1 -1 -1  1 -1 -1 -1 -1  1\n",
      "  1 -1  1  1  1 -1 -1 -1  1 -1 -1 -1 -1 -1  1 -1 -1 -1  1  1 -1  1  1 -1  1\n",
      " -1 -1  1  1 -1 -1 -1  1  1  1 -1  1 -1  1  1 -1  1 -1 -1  1 -1 -1  1 -1 -1\n",
      " -1  1  1  1  1  1 -1  1 -1 -1  1 -1  1  1 -1 -1 -1  1  1  1  1 -1 -1 -1  1\n",
      " -1 -1  1 -1 -1  1 -1 -1 -1 -1  1  1 -1  1  1  1  1  1 -1  1 -1  1  1 -1  1\n",
      " -1  1 -1 -1  1  1  1 -1  1 -1  1  1 -1  1  1  1 -1  1 -1  1  1  1 -1 -1 -1\n",
      " -1  1 -1  1 -1 -1 -1 -1  1 -1  1  1 -1  1 -1  1 -1  1 -1  1  1 -1 -1  1 -1\n",
      "  1 -1 -1 -1 -1  1 -1 -1 -1  1  1  1 -1 -1 -1  1  1  1  1 -1  1 -1 -1 -1  1\n",
      "  1 -1  1 -1 -1 -1 -1  1 -1 -1  1 -1 -1  1 -1  1 -1 -1 -1  1  1  1 -1 -1 -1\n",
      "  1 -1  1  1 -1  1 -1  1 -1  1  1 -1 -1 -1  1  1 -1  1  1  1  1  1  1  1  1\n",
      " -1  1 -1 -1  1 -1 -1 -1 -1  1 -1 -1  1  1]\n"
     ]
    }
   ],
   "source": [
    "y_hat = clf.predict(X_test)\n",
    "print('La salida de la prediccion es: \\n', y_hat)"
   ]
  },
  {
   "cell_type": "markdown",
   "metadata": {},
   "source": [
    "Primero se muestra la $confussion$ $matrix$ para visualizar mejor los resultados de la predicción"
   ]
  },
  {
   "cell_type": "code",
   "execution_count": 8,
   "metadata": {},
   "outputs": [
    {
     "name": "stdout",
     "output_type": "stream",
     "text": [
      "[[315  14]\n",
      " [ 15 270]]\n"
     ]
    },
    {
     "data": {
      "text/html": [
       "<div>\n",
       "<style>\n",
       "    .dataframe thead tr:only-child th {\n",
       "        text-align: right;\n",
       "    }\n",
       "\n",
       "    .dataframe thead th {\n",
       "        text-align: left;\n",
       "    }\n",
       "\n",
       "    .dataframe tbody tr th {\n",
       "        vertical-align: top;\n",
       "    }\n",
       "</style>\n",
       "<table border=\"1\" class=\"dataframe\">\n",
       "  <thead>\n",
       "    <tr style=\"text-align: right;\">\n",
       "      <th></th>\n",
       "      <th>Predicho no fishing (-1)</th>\n",
       "      <th>Predicho fishing (1)</th>\n",
       "    </tr>\n",
       "  </thead>\n",
       "  <tbody>\n",
       "    <tr>\n",
       "      <th>Real no fishing (-1)</th>\n",
       "      <td>315</td>\n",
       "      <td>14</td>\n",
       "    </tr>\n",
       "    <tr>\n",
       "      <th>Real fishing (1)</th>\n",
       "      <td>15</td>\n",
       "      <td>270</td>\n",
       "    </tr>\n",
       "  </tbody>\n",
       "</table>\n",
       "</div>"
      ],
      "text/plain": [
       "                      Predicho no fishing (-1)  Predicho fishing (1)\n",
       "Real no fishing (-1)                       315                    14\n",
       "Real fishing (1)                            15                   270"
      ]
     },
     "execution_count": 8,
     "metadata": {},
     "output_type": "execute_result"
    }
   ],
   "source": [
    "from sklearn import metrics\n",
    "cm = metrics.confusion_matrix(y_test, y_hat, labels=[-1,1])\n",
    "print(cm)\n",
    "\n",
    "# Formateamos la confussion matrix\n",
    "list1 = [\"Real no fishing (-1)\", \"Real fishing (1)\"]\n",
    "list2 = [\"Predicho no fishing (-1)\", \"Predicho fishing (1)\"]\n",
    "pd.DataFrame(cm, list1, list2)"
   ]
  },
  {
   "cell_type": "markdown",
   "metadata": {},
   "source": [
    "Mostramos la tasa de aciertos junto con sus respectivos precision y recall"
   ]
  },
  {
   "cell_type": "code",
   "execution_count": 9,
   "metadata": {},
   "outputs": [
    {
     "name": "stdout",
     "output_type": "stream",
     "text": [
      "             precision    recall  f1-score   support\n",
      "\n",
      " no phising       0.95      0.96      0.96       329\n",
      "    phising       0.95      0.95      0.95       285\n",
      "\n",
      "avg / total       0.95      0.95      0.95       614\n",
      "\n"
     ]
    }
   ],
   "source": [
    "print(metrics.classification_report(y_test, y_hat, target_names=['no phising', 'phising']))"
   ]
  },
  {
   "cell_type": "markdown",
   "metadata": {},
   "source": [
    "#### Se procede a instanciar el clasificador Decision tree"
   ]
  },
  {
   "cell_type": "code",
   "execution_count": 11,
   "metadata": {
    "collapsed": true
   },
   "outputs": [],
   "source": [
    "from sklearn import tree\n",
    "clf = tree.DecisionTreeClassifier(random_state=semilla)\n",
    "clf = clf.fit(X_train, y_train)"
   ]
  },
  {
   "cell_type": "markdown",
   "metadata": {},
   "source": [
    "Predecimos los datos de test y mostramos dicha prediccion"
   ]
  },
  {
   "cell_type": "code",
   "execution_count": 12,
   "metadata": {},
   "outputs": [
    {
     "name": "stdout",
     "output_type": "stream",
     "text": [
      "La salida de la prediccion es: \n",
      " [ 1  1  1 -1 -1 -1 -1  1 -1 -1  1 -1 -1  1  1  1  1  1  1  1 -1  1 -1  1  1\n",
      " -1 -1 -1  1  1  1  1 -1 -1  1  1 -1 -1  1 -1 -1  1  1  1 -1 -1 -1 -1 -1  1\n",
      "  1 -1 -1  1  1 -1  1 -1 -1 -1 -1  1  1 -1  1  1 -1 -1 -1 -1 -1  1 -1  1 -1\n",
      " -1  1 -1 -1 -1 -1  1 -1 -1 -1  1 -1  1 -1  1 -1 -1  1 -1 -1  1 -1  1 -1 -1\n",
      " -1  1  1 -1 -1  1 -1  1 -1 -1 -1 -1 -1 -1 -1  1 -1 -1 -1 -1  1  1 -1 -1  1\n",
      " -1  1 -1 -1 -1 -1  1  1  1  1  1  1 -1  1  1 -1 -1 -1  1 -1  1 -1  1 -1 -1\n",
      "  1 -1  1  1 -1  1  1 -1 -1  1  1  1  1  1  1  1 -1  1  1  1  1 -1  1 -1  1\n",
      "  1  1 -1  1 -1  1 -1 -1 -1  1 -1 -1  1 -1 -1 -1 -1 -1 -1 -1 -1 -1  1 -1  1\n",
      " -1 -1  1  1  1 -1 -1  1  1  1 -1 -1 -1  1  1 -1 -1  1 -1 -1 -1 -1  1 -1  1\n",
      " -1  1  1  1  1 -1  1 -1 -1  1  1  1  1  1  1 -1  1 -1 -1 -1  1  1  1  1 -1\n",
      " -1 -1 -1 -1 -1  1  1 -1  1  1 -1  1  1 -1  1 -1 -1  1 -1  1 -1 -1 -1  1 -1\n",
      "  1  1 -1 -1 -1 -1 -1 -1  1 -1 -1  1 -1 -1 -1 -1  1 -1 -1 -1  1  1 -1 -1  1\n",
      "  1 -1  1 -1 -1  1  1 -1 -1  1  1  1 -1 -1 -1 -1 -1  1 -1  1  1  1 -1 -1  1\n",
      " -1 -1  1  1 -1 -1  1 -1 -1  1  1  1  1 -1 -1 -1  1 -1 -1  1 -1 -1 -1 -1  1\n",
      "  1 -1  1  1  1 -1  1 -1  1 -1  1  1 -1 -1 -1 -1 -1  1 -1  1 -1 -1 -1 -1 -1\n",
      "  1 -1  1  1  1 -1 -1 -1  1 -1 -1 -1 -1 -1  1 -1 -1 -1  1  1 -1  1  1 -1  1\n",
      " -1 -1  1  1 -1 -1 -1  1  1  1 -1  1 -1  1 -1 -1  1 -1 -1  1 -1 -1  1 -1 -1\n",
      " -1  1  1 -1  1 -1 -1  1 -1 -1  1 -1  1  1 -1 -1 -1  1  1  1  1 -1 -1 -1  1\n",
      " -1  1  1 -1 -1  1 -1 -1 -1 -1  1  1 -1  1 -1  1  1  1 -1  1 -1  1  1 -1  1\n",
      " -1  1 -1 -1  1  1  1 -1  1 -1  1  1 -1  1  1  1 -1  1 -1  1  1  1 -1 -1 -1\n",
      " -1  1 -1  1 -1 -1 -1 -1  1 -1  1  1 -1  1 -1  1 -1  1 -1  1  1 -1 -1  1 -1\n",
      "  1 -1 -1 -1  1  1 -1 -1 -1  1  1  1 -1 -1  1  1  1  1  1 -1  1 -1 -1 -1  1\n",
      "  1 -1  1 -1 -1 -1 -1  1 -1 -1  1 -1 -1  1 -1  1 -1 -1 -1  1  1  1 -1 -1 -1\n",
      "  1 -1 -1  1 -1  1 -1  1 -1  1  1 -1 -1 -1  1  1 -1  1  1  1  1  1  1  1  1\n",
      " -1  1 -1 -1  1  1 -1 -1 -1  1 -1 -1  1  1]\n"
     ]
    }
   ],
   "source": [
    "y_hat_tree = clf.predict(X_test)\n",
    "print('La salida de la prediccion es: \\n', y_hat_tree)"
   ]
  },
  {
   "cell_type": "markdown",
   "metadata": {},
   "source": [
    "Primero se muestra la $confussion$ $matrix$ para visualizar mejor los resultados de la predicción"
   ]
  },
  {
   "cell_type": "code",
   "execution_count": 13,
   "metadata": {},
   "outputs": [
    {
     "name": "stdout",
     "output_type": "stream",
     "text": [
      "[[317  12]\n",
      " [ 15 270]]\n"
     ]
    },
    {
     "data": {
      "text/html": [
       "<div>\n",
       "<style>\n",
       "    .dataframe thead tr:only-child th {\n",
       "        text-align: right;\n",
       "    }\n",
       "\n",
       "    .dataframe thead th {\n",
       "        text-align: left;\n",
       "    }\n",
       "\n",
       "    .dataframe tbody tr th {\n",
       "        vertical-align: top;\n",
       "    }\n",
       "</style>\n",
       "<table border=\"1\" class=\"dataframe\">\n",
       "  <thead>\n",
       "    <tr style=\"text-align: right;\">\n",
       "      <th></th>\n",
       "      <th>Predicho no fishing (-1)</th>\n",
       "      <th>Predicho fishing (1)</th>\n",
       "    </tr>\n",
       "  </thead>\n",
       "  <tbody>\n",
       "    <tr>\n",
       "      <th>Real no fishing (-1)</th>\n",
       "      <td>317</td>\n",
       "      <td>12</td>\n",
       "    </tr>\n",
       "    <tr>\n",
       "      <th>Real fishing (1)</th>\n",
       "      <td>15</td>\n",
       "      <td>270</td>\n",
       "    </tr>\n",
       "  </tbody>\n",
       "</table>\n",
       "</div>"
      ],
      "text/plain": [
       "                      Predicho no fishing (-1)  Predicho fishing (1)\n",
       "Real no fishing (-1)                       317                    12\n",
       "Real fishing (1)                            15                   270"
      ]
     },
     "execution_count": 13,
     "metadata": {},
     "output_type": "execute_result"
    }
   ],
   "source": [
    "cm_tree = metrics.confusion_matrix(y_test, y_hat_tree, labels=[-1,1])\n",
    "print(cm_tree)\n",
    "# Formateamos la confussion matrix\n",
    "list1 = [\"Real no fishing (-1)\", \"Real fishing (1)\"]\n",
    "list2 = [\"Predicho no fishing (-1)\", \"Predicho fishing (1)\"]\n",
    "pd.DataFrame(cm_tree, list1, list2)"
   ]
  },
  {
   "cell_type": "markdown",
   "metadata": {},
   "source": [
    "Mostramos la tasa de aciertos junto con sus respectivos precision y recall"
   ]
  },
  {
   "cell_type": "code",
   "execution_count": 14,
   "metadata": {},
   "outputs": [
    {
     "name": "stdout",
     "output_type": "stream",
     "text": [
      "             precision    recall  f1-score   support\n",
      "\n",
      " no phising       0.95      0.96      0.96       329\n",
      "    phising       0.96      0.95      0.95       285\n",
      "\n",
      "avg / total       0.96      0.96      0.96       614\n",
      "\n"
     ]
    }
   ],
   "source": [
    "print(metrics.classification_report(y_test, y_hat_tree, target_names=['no phising', 'phising']))"
   ]
  },
  {
   "cell_type": "markdown",
   "metadata": {},
   "source": [
    "Se adjunta un grafico de la importancia de cada feature para el arbol"
   ]
  },
  {
   "cell_type": "code",
   "execution_count": 15,
   "metadata": {},
   "outputs": [
    {
     "data": {
      "image/png": "[encoded data removed]",
      "text/plain": [
       "<matplotlib.figure.Figure at 0x7f413861d7f0>"
      ]
     },
     "metadata": {},
     "output_type": "display_data"
    }
   ],
   "source": [
    "import matplotlib.pyplot as plt\n",
    "# Sacamos el target de nombres\n",
    "nombres.pop(30)\n",
    "nombres = np.array(nombres)\n",
    "yticks = [1,2,3,4,5,6,7,8,9,10,11,12,13,14,15,16,17,18,19,20,21,22,23,24,25,26,27,28,29,30]\n",
    "plt.figure(figsize=(12,8))\n",
    "plt.yticks(yticks, nombres)\n",
    "plt.barh(yticks, clf.feature_importances_)\n",
    "plt.ylabel('Feature')\n",
    "plt.xlabel('Importancia')\n",
    "plt.show()"
   ]
  },
  {
   "cell_type": "markdown",
   "metadata": {},
   "source": [
    "#### 3. Se explica porque el Decision tree tuvo mejor desempeño que el KNN"
   ]
  },
  {
   "cell_type": "markdown",
   "metadata": {
    "collapsed": true
   },
   "source": [
    "En este caso no hay demasiada diferencia en la tasa de aciertos de los dos clasificadores. Sin embargo, en mi opinión, Decision tree se adapta un poco mejor al dataset elegido debido a que los valores de las $features$ son discretos y clasificables. Ademas es mas sencillo de interpretar y se puede mostrar informacion como la graficada anteriormente. En el caso de KNN no seria de mucha utilidad utilizar las distancias debido a que los datos son discretos y cercanos entre si."
   ]
  }
 ],
 "metadata": {
  "kernelspec": {
   "display_name": "Python 3",
   "language": "python",
   "name": "python3"
  },
  "language_info": {
   "codemirror_mode": {
    "name": "ipython",
    "version": 3
   },
   "file_extension": ".py",
   "mimetype": "text/x-python",
   "name": "python",
   "nbconvert_exporter": "python",
   "pygments_lexer": "ipython3",
   "version": "3.5.2"
  }
 },
 "nbformat": 4,
 "nbformat_minor": 2
}

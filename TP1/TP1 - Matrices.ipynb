{
 "cells": [
  {
   "cell_type": "markdown",
   "metadata": {
    "deletable": true,
    "editable": true
   },
   "source": [
    "# Trabajo práctico N° 1"
   ]
  },
  {
   "cell_type": "markdown",
   "metadata": {},
   "source": [
    "## Enunciado: "
   ]
  },
  {
   "cell_type": "markdown",
   "metadata": {},
   "source": [
    "1. Instalar el entorno Python y un IDE de su elección para la próxima clase. Las clases van a estar enfocadas en Python y es muy recomendable que los ejercicios sean realizados en dicho lenguaje, pero pueden utilizar cualquier lenguaje a elección (en tal caso, tener en cuenta que muchos lenguajes no tienen un ecosistema amplio de librerías de ML).\n",
    "2. Realizar una práctica básica con numpy: dadas las matrices de la figura “Matrices Ejercicio Clase 1” \n",
    " * Construir las matrices en numpy.\n",
    " * Hacer con dichas matrices A − B T e imprimir su resultado.\n",
    " * Hacer con dichas matrices (A.B) −1 e imprimir su resultado."
   ]
  },
  {
   "cell_type": "markdown",
   "metadata": {},
   "source": [
    "## Desarrollo:"
   ]
  },
  {
   "cell_type": "markdown",
   "metadata": {},
   "source": [
    "### Se instalo el entorno de desarrollo: \n",
    "* Se creo un virtualenv con python 3.\n",
    "* Se instalo PyCharm Comunity.\n",
    "* Se instalaron los paquetes numpy, scipy, scikit-learn.\n",
    "* Se instalo jupyter."
   ]
  },
  {
   "cell_type": "markdown",
   "metadata": {},
   "source": [
    "### Se desarrollo el programa:\n",
    "* Se importo numpy.\n",
    "* Se crearon las matrices A y B, llamadas a y b.\n",
    "* Se realizo la primera operacion y se guardo el resultado en la variable op1.\n",
    "* Se realizo la segunda operacion y se guardo el resultado en la variable op2.\n",
    "* Se imprimieron los resultados.\n"
   ]
  },
  {
   "cell_type": "code",
   "execution_count": 1,
   "metadata": {
    "collapsed": false,
    "deletable": true,
    "editable": true
   },
   "outputs": [
    {
     "name": "stdout",
     "output_type": "stream",
     "text": [
      "El resultado de la operación 1 es:  [[2 1 3]\n",
      " [4 4 5]]\n",
      "El resultado de la operación 2 es:  [[ 1.83333333 -0.83333333]\n",
      " [-0.16666667  0.16666667]]\n"
     ]
    }
   ],
   "source": [
    "import numpy as np\n",
    "a = np.matrix([[1,2,3],[4,5,6]])\n",
    "b = np.matrix([[-1,0],[1,1],[0,1]])\n",
    "op1 = a - b.T\n",
    "op2 = (a*b).I\n",
    "print(\"El resultado de la operación 1 es: \", op1)\n",
    "print(\"El resultado de la operación 2 es: \", op2)"
   ]
  }
 ],
 "metadata": {
  "kernelspec": {
   "display_name": "Python 3",
   "language": "python",
   "name": "python3"
  },
  "language_info": {
   "codemirror_mode": {
    "name": "ipython",
    "version": 3
   },
   "file_extension": ".py",
   "mimetype": "text/x-python",
   "name": "python",
   "nbconvert_exporter": "python",
   "pygments_lexer": "ipython3",
   "version": "3.5.2"
  }
 },
 "nbformat": 4,
 "nbformat_minor": 0
}

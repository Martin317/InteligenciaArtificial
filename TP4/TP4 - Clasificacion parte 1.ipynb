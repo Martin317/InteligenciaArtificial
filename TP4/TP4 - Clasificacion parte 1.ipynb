{
 "cells": [
  {
   "cell_type": "markdown",
   "metadata": {},
   "source": [
    "# Trabajo práctico N° 4"
   ]
  },
  {
   "cell_type": "markdown",
   "metadata": {},
   "source": [
    "Para los siguientes ejercicios vamos a usar el Wisconsin Breast Cancer dataset, construído a partir de imágenes digitalizadas. Las mismas describen la información obtenida de cada imagen de célula mamaria biopsiada, especificando si el diagnóstico sobre la misma es que es benigna o maligna.\n",
    "\n",
    "Se pide:\n",
    "\n",
    "1. Declarar una variable random_state igual al número de alumno en la hoja de cálculo \"Entregas TPs\" en el Google Drive de la materia.\n",
    "2. Implementar un clasificador kNN.\n",
    "3. Aplicarle z-score standarization a los datos. Dividir en conjunto de train y test y entrenar el clasificador con el sub-conjunto de datos de entrenamiento, mostrando la correspondiente tasa de aciertos. Utilizar el respectivo random_state.\n",
    "4. Considere el caso donde un incorrecto diagnóstico de cáncer cuando la célula es benigna tiene un costo de 5, mientras que una errónea omisión de una célula maligna tiene un costo de 20. Modificar las salidas del clasificador para que el mismo realice la mayor reducción posible del costo por errores de clasificación, e imprimir dichas salidas. Ayuda: una forma es utilizar el método *predicted_proba()* para obtener las probabilidades.\n",
    "5. Considerando el punto anterior, ampliar el código para que seleccione automáticamente o mediante iteraciones la cantidad de vecinos que minimiza el costo de un error de predicción. Especificar cuál es el costo mínimo obtenido tras dicha minimización.\n",
    "\n",
    "Fecha de entrega: **17/05/2017**.\n",
    "\n",
    "Nota: la resolución de los ejercicios es **individual**; en el caso de que dos ejercicios enviados contengan un código igual o muy similar (sin considerar los comentarios), se los considerará a ambos como desaprobados. La reutilización del código del notebook está permitida (por ejemplo para confeccionar gráficos)."
   ]
  },
  {
   "cell_type": "markdown",
   "metadata": {},
   "source": [
    "## Desarrollo"
   ]
  },
  {
   "cell_type": "markdown",
   "metadata": {},
   "source": [
    "#### 1. Se declara la variable random_state con el numero de alumno correspondiente (3) y se instancia el dataset breast_cancer"
   ]
  },
  {
   "cell_type": "code",
   "execution_count": 1,
   "metadata": {},
   "outputs": [
    {
     "data": {
      "text/plain": [
       "array(['malignant', 'benign'], \n",
       "      dtype='<U9')"
      ]
     },
     "execution_count": 1,
     "metadata": {},
     "output_type": "execute_result"
    }
   ],
   "source": [
    "import numpy as np\n",
    "from sklearn.datasets import load_breast_cancer\n",
    "semilla = np.random.RandomState(3)\n",
    "data = load_breast_cancer()\n",
    "x = data.data\n",
    "y = data.target\n",
    "data.target_names"
   ]
  },
  {
   "cell_type": "markdown",
   "metadata": {},
   "source": [
    "#### 2. Se Implementa un clasificador kNN"
   ]
  },
  {
   "cell_type": "code",
   "execution_count": 2,
   "metadata": {
    "collapsed": true
   },
   "outputs": [],
   "source": [
    "from sklearn import neighbors\n",
    "clf = neighbors.KNeighborsClassifier(weights='distance', n_neighbors=10)"
   ]
  },
  {
   "cell_type": "markdown",
   "metadata": {},
   "source": [
    "#### 3. Se aplica z-score standarization a los datos"
   ]
  },
  {
   "cell_type": "code",
   "execution_count": 3,
   "metadata": {
    "collapsed": true
   },
   "outputs": [],
   "source": [
    "from scipy import stats\n",
    "x_norm = stats.zscore(x)"
   ]
  },
  {
   "cell_type": "markdown",
   "metadata": {},
   "source": [
    "#### Se divide en conjunto de train y test y entrenar el clasificador con el sub-conjunto de datos de entrenamiento. Luego se muestra la tasa de aciertos."
   ]
  },
  {
   "cell_type": "code",
   "execution_count": 4,
   "metadata": {},
   "outputs": [
    {
     "name": "stdout",
     "output_type": "stream",
     "text": [
      "Tasa de aciertos en la clasificación:  0.947368421053\n"
     ]
    }
   ],
   "source": [
    "from sklearn.model_selection import train_test_split\n",
    "X_train, X_test, y_train, y_test = train_test_split(x_norm, y, random_state=semilla, test_size=0.2)\n",
    "clf.fit(X_train, y_train)\n",
    "print('Tasa de aciertos en la clasificación: ', clf.score(X_test, y_test))"
   ]
  },
  {
   "cell_type": "markdown",
   "metadata": {},
   "source": [
    "#### 4. Se establecen los costos de lfn y lfp\n",
    "Para este caso se tiene en cuenta que: <br>\n",
    "Benigno: 1<br>\n",
    "Maligno: 0\n",
    "<br>\n",
    "Por lo tanto:\n",
    "* Diagnosticar Benigno (1) siendo Maligno (0) tiene un costo de: 20 (lfn)\n",
    "* Diagnosticar Maligno (0) siendo Benigno (1) tiene un costo de: 5 (lfp)"
   ]
  },
  {
   "cell_type": "code",
   "execution_count": 5,
   "metadata": {
    "collapsed": true
   },
   "outputs": [],
   "source": [
    "lfn = 20\n",
    "lfp = 5"
   ]
  },
  {
   "cell_type": "markdown",
   "metadata": {},
   "source": [
    "#### Se define una funcion que modifica las salidas del clasificador teniendo en cuenta los costos definidos anteriormente\n",
    "Dadas dos clases 0 y 1, si queremos minimizar el costo de nuestros errores, utilizamos la _loss matrix_\n",
    "$$\n",
    "L =\\begin{pmatrix}{}\n",
    "  & \\hat{y}=0 & \\hat{y}=1 \\\\\n",
    "y=0 & 0 & L_{FN} \\\\\n",
    "y=1 & L_{FP} & 0 \\end{pmatrix}\n",
    "$$\n",
    "\n",
    "donde $L_{FN}$ es el costo de un error FN mientras que $L_{FP}$ es el costo de un error FP. La posterior expected loss para ambas acciones está dada por\n",
    "\n",
    "$$L(\\hat{y}=0 \\mid X)=L_{FP}P(y=1 \\mid X)$$\n",
    "$$L(\\hat{y}=1 \\mid X)=L_{FN}P(y=0 \\mid X)$$\n",
    "\n",
    "Por lo tanto, deberíamos escoger la clase 0 sii\n",
    "\n",
    "$L(\\hat{y}=1 \\mid X) > L(\\hat{y}=0 \\mid X)$\n",
    "\n",
    "Reemplazando: \n",
    "\n",
    "$L_{FN} P(y=0 \\mid X) > L_{FP} P(y=1 \\mid X)$\n",
    "\n",
    "Si $L_{FN} = c L_{FP}$, entonces elegiremos $\\hat{y}=0$ si:\n",
    "\n",
    "$P(y=0 \\mid X) > \\frac{1}{c} P(y=1 \\mid X) $\n"
   ]
  },
  {
   "cell_type": "code",
   "execution_count": 6,
   "metadata": {
    "collapsed": true
   },
   "outputs": [],
   "source": [
    "def predecir(X_test, lfn, lfp):\n",
    "    c = lfn / lfp\n",
    "    y_hat_proba = clf.predict_proba(X_test)\n",
    "    y_hat = []\n",
    "    for i in range(0, len(y_hat_proba)):\n",
    "        # P(y=0∣x)>(1/c) * P(y=1∣x) ; P(Maligno) > 1/c P(Benigno)\n",
    "        if y_hat_proba[i, 0] > ((1 / c) * y_hat_proba[i, 1]):\n",
    "            # Agregamos un 0 porque es Maligno\n",
    "            y_hat.append(0)\n",
    "        else:\n",
    "            # Agregamos un 1 porque es Benigno\n",
    "            y_hat.append(1)\n",
    "    return y_hat"
   ]
  },
  {
   "cell_type": "markdown",
   "metadata": {},
   "source": [
    "#### Se predice y se muestra la salida"
   ]
  },
  {
   "cell_type": "code",
   "execution_count": 7,
   "metadata": {},
   "outputs": [
    {
     "name": "stdout",
     "output_type": "stream",
     "text": [
      "La salida de la prediccion es: \n",
      " [1, 0, 1, 1, 0, 1, 1, 1, 1, 1, 1, 0, 1, 0, 1, 1, 1, 1, 0, 1, 1, 1, 1, 1, 1, 1, 1, 0, 0, 1, 0, 1, 1, 1, 1, 1, 1, 1, 0, 0, 0, 1, 1, 0, 1, 0, 0, 1, 0, 1, 0, 1, 1, 0, 0, 1, 1, 0, 1, 1, 1, 1, 0, 0, 1, 1, 0, 1, 0, 0, 1, 0, 0, 0, 1, 0, 1, 0, 0, 0, 0, 1, 1, 1, 1, 0, 1, 1, 1, 1, 0, 0, 0, 1, 1, 0, 1, 0, 1, 1, 1, 0, 1, 1, 1, 0, 0, 1, 0, 1, 1, 0, 1, 1]\n"
     ]
    }
   ],
   "source": [
    "y_hat = predecir(X_test, lfn, lfp)\n",
    "print('La salida de la prediccion es: \\n', y_hat)"
   ]
  },
  {
   "cell_type": "markdown",
   "metadata": {},
   "source": [
    "#### Se muestran los errores"
   ]
  },
  {
   "cell_type": "code",
   "execution_count": 8,
   "metadata": {},
   "outputs": [
    {
     "name": "stdout",
     "output_type": "stream",
     "text": [
      "[[38  2]\n",
      " [ 5 69]]\n"
     ]
    }
   ],
   "source": [
    "from sklearn import metrics\n",
    "import pandas\n",
    "# Creamos la confusion matrix y le asignamos las filas y columnas correspondientes\n",
    "cm = metrics.confusion_matrix(y_test, y_hat, labels=[0,1])\n",
    "print(cm)"
   ]
  },
  {
   "cell_type": "markdown",
   "metadata": {},
   "source": [
    "#### Formateando"
   ]
  },
  {
   "cell_type": "code",
   "execution_count": 9,
   "metadata": {},
   "outputs": [
    {
     "data": {
      "text/html": [
       "<div>\n",
       "<style>\n",
       "    .dataframe thead tr:only-child th {\n",
       "        text-align: right;\n",
       "    }\n",
       "\n",
       "    .dataframe thead th {\n",
       "        text-align: left;\n",
       "    }\n",
       "\n",
       "    .dataframe tbody tr th {\n",
       "        vertical-align: top;\n",
       "    }\n",
       "</style>\n",
       "<table border=\"1\" class=\"dataframe\">\n",
       "  <thead>\n",
       "    <tr style=\"text-align: right;\">\n",
       "      <th></th>\n",
       "      <th>Predicho maligno (0)</th>\n",
       "      <th>Predicho benigno (1)</th>\n",
       "    </tr>\n",
       "  </thead>\n",
       "  <tbody>\n",
       "    <tr>\n",
       "      <th>Real maligno (0)</th>\n",
       "      <td>38</td>\n",
       "      <td>2</td>\n",
       "    </tr>\n",
       "    <tr>\n",
       "      <th>Real benigno (1)</th>\n",
       "      <td>5</td>\n",
       "      <td>69</td>\n",
       "    </tr>\n",
       "  </tbody>\n",
       "</table>\n",
       "</div>"
      ],
      "text/plain": [
       "                  Predicho maligno (0)  Predicho benigno (1)\n",
       "Real maligno (0)                    38                     2\n",
       "Real benigno (1)                     5                    69"
      ]
     },
     "execution_count": 9,
     "metadata": {},
     "output_type": "execute_result"
    }
   ],
   "source": [
    "list1 = [\"Real maligno (0)\", \"Real benigno (1)\"]\n",
    "list2 = [\"Predicho maligno (0)\", \"Predicho benigno (1)\"]\n",
    "pandas.DataFrame(cm, list1, list2)"
   ]
  },
  {
   "cell_type": "markdown",
   "metadata": {},
   "source": [
    "#### 5. Se busca el numero de vecinos $k$ que de el menor costo posible"
   ]
  },
  {
   "cell_type": "code",
   "execution_count": 10,
   "metadata": {},
   "outputs": [
    {
     "name": "stdout",
     "output_type": "stream",
     "text": [
      "El k optimo es:  4 . Da un costo de:  30\n"
     ]
    }
   ],
   "source": [
    "import matplotlib.pyplot as plt\n",
    "k_optimo = 0 \n",
    "costo_optimo = 'inicial'\n",
    "totales = []\n",
    "vecinos = []\n",
    "for k in range(1, len(X_train)):\n",
    "    clf = neighbors.KNeighborsClassifier(weights='distance', n_neighbors=k)\n",
    "    clf.fit(X_train, y_train)\n",
    "    y_hat_for = predecir(X_test, lfn, lfp)\n",
    "\n",
    "    cm = metrics.confusion_matrix(y_test, y_hat_for, labels=[0,1])\n",
    "    total = cm[0][1] * lfn + cm[1][0] * lfp\n",
    "    totales.append(total)\n",
    "    vecinos.append(k)\n",
    "    if costo_optimo == 'inicial':\n",
    "        costo_optimo = total\n",
    "        k_optimo = k\n",
    "    else:\n",
    "        if total < costo_optimo:\n",
    "            costo_optimo = total\n",
    "            k_optimo = k\n",
    "    \n",
    "print('El k optimo es: ', k_optimo, '. Da un costo de: ', costo_optimo)"
   ]
  },
  {
   "cell_type": "markdown",
   "metadata": {},
   "source": [
    "#### Agregeamos un grafico de los costos para mayor comprension"
   ]
  },
  {
   "cell_type": "code",
   "execution_count": 11,
   "metadata": {},
   "outputs": [
    {
     "data": {
      "image/png": "[encoded data removed]",
      "text/plain": [
       "<matplotlib.figure.Figure at 0x7fd0424c9c18>"
      ]
     },
     "metadata": {},
     "output_type": "display_data"
    }
   ],
   "source": [
    "plt.xlabel('Vecinos')\n",
    "plt.ylabel('Costo')\n",
    "plt.plot(vecinos, totales, color='orange')\n",
    "# Graficamos el punto optimo.\n",
    "plt.scatter(k_optimo, costo_optimo, color='green')\n",
    "plt.show()"
   ]
  }
 ],
 "metadata": {
  "kernelspec": {
   "display_name": "Python 3",
   "language": "python",
   "name": "python3"
  },
  "language_info": {
   "codemirror_mode": {
    "name": "ipython",
    "version": 3
   },
   "file_extension": ".py",
   "mimetype": "text/x-python",
   "name": "python",
   "nbconvert_exporter": "python",
   "pygments_lexer": "ipython3",
   "version": "3.5.2"
  }
 },
 "nbformat": 4,
 "nbformat_minor": 1
}
